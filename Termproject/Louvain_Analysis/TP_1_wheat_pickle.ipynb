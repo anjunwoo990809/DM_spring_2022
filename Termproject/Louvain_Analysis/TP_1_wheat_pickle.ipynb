{
  "cells": [
    {
      "cell_type": "code",
      "execution_count": 1,
      "metadata": {
        "id": "5goq2kDIWd76",
        "colab": {
          "base_uri": "https://localhost:8080/"
        },
        "outputId": "f9fbd755-d7b8-4e64-9bd3-35394711f4dd"
      },
      "outputs": [
        {
          "output_type": "stream",
          "name": "stdout",
          "text": [
            "Mounted at /content/drive\n"
          ]
        }
      ],
      "source": [
        "from google.colab import drive\n",
        "drive.mount('/content/drive')"
      ]
    },
    {
      "cell_type": "code",
      "execution_count": 2,
      "metadata": {
        "id": "KgO7IX6U0cOG"
      },
      "outputs": [],
      "source": [
        "import networkx as nx\n",
        "import numpy as np\n",
        "import matplotlib.pyplot as plt\n",
        "import seaborn as sns\n",
        "import community.community_louvain as cl\n",
        "import matplotlib.cm as cm\n",
        "import pandas as pd"
      ]
    },
    {
      "cell_type": "markdown",
      "metadata": {
        "id": "0LIZc7SU4jyk"
      },
      "source": [
        "# Data importing & Year spliting"
      ]
    },
    {
      "cell_type": "markdown",
      "source": [
        "2021년 데이터의 경우 8월까지의 수출입 데이터가 존재하고, 2021년 9월 이후의 데이터는 아직 정리되지 않은 상황이다."
      ],
      "metadata": {
        "id": "pPlxi6OxqAp4"
      }
    },
    {
      "cell_type": "code",
      "execution_count": 3,
      "metadata": {
        "id": "XWBnBt1fU-oO",
        "colab": {
          "base_uri": "https://localhost:8080/"
        },
        "outputId": "be04e072-696f-4aa0-ef2d-85ca84d52881"
      },
      "outputs": [
        {
          "output_type": "stream",
          "name": "stdout",
          "text": [
            "<class 'pandas.core.frame.DataFrame'>\n",
            "RangeIndex: 30832 entries, 0 to 30831\n",
            "Data columns (total 5 columns):\n",
            " #   Column             Non-Null Count  Dtype \n",
            "---  ------             --------------  ----- \n",
            " 0   Unnamed: 0         30832 non-null  int64 \n",
            " 1   Year               30832 non-null  int64 \n",
            " 2   From               30832 non-null  object\n",
            " 3   To                 30832 non-null  object\n",
            " 4   Trade Value (US$)  30832 non-null  int64 \n",
            "dtypes: int64(3), object(2)\n",
            "memory usage: 1.2+ MB\n"
          ]
        }
      ],
      "source": [
        "df = pd.read_csv('/content/drive/Shareddrives/22-1 데이터마이닝/TermProject/Data/comtradedata/df_2006_2021_1001.csv')\n",
        "\n",
        "df.info()"
      ]
    },
    {
      "cell_type": "code",
      "execution_count": 4,
      "metadata": {
        "id": "xZy-U96t4qv5",
        "colab": {
          "base_uri": "https://localhost:8080/"
        },
        "outputId": "16f2168a-b355-4cef-df69-c90b60936c76"
      },
      "outputs": [
        {
          "output_type": "execute_result",
          "data": {
            "text/plain": [
              "2006    1852\n",
              "2007    1844\n",
              "2008    2019\n",
              "2009    1980\n",
              "2010    2113\n",
              "2011    1665\n",
              "2012    1630\n",
              "2013    1697\n",
              "2014    1690\n",
              "2015    1849\n",
              "2016    2193\n",
              "2017    2257\n",
              "2018    2164\n",
              "2019    2219\n",
              "2020    2107\n",
              "2021    1553\n",
              "Name: Year, dtype: int64"
            ]
          },
          "metadata": {},
          "execution_count": 4
        }
      ],
      "source": [
        "df['Year'].value_counts().sort_index()"
      ]
    },
    {
      "cell_type": "code",
      "execution_count": 5,
      "metadata": {
        "id": "vKJg3j4e4jii",
        "colab": {
          "base_uri": "https://localhost:8080/",
          "height": 745
        },
        "outputId": "2d7f2944-27a3-471f-cf91-88a9f0d5b2bd"
      },
      "outputs": [
        {
          "output_type": "stream",
          "name": "stdout",
          "text": [
            "Dataset from 2006 to 2021\n",
            "\n",
            "2006 \t (1852, 5)\n",
            "2007 \t (1844, 5)\n",
            "2008 \t (2019, 5)\n",
            "2009 \t (1980, 5)\n",
            "2010 \t (2113, 5)\n",
            "2011 \t (1665, 5)\n",
            "2012 \t (1630, 5)\n",
            "2013 \t (1697, 5)\n",
            "2014 \t (1690, 5)\n",
            "2015 \t (1849, 5)\n",
            "2016 \t (2193, 5)\n",
            "2017 \t (2257, 5)\n",
            "2018 \t (2164, 5)\n",
            "2019 \t (2219, 5)\n",
            "2020 \t (2107, 5)\n",
            "2021 \t (1553, 5)\n"
          ]
        },
        {
          "output_type": "execute_result",
          "data": {
            "text/plain": [
              "       Unnamed: 0  Year         From                    To  Trade Value (US$)\n",
              "20532       20590  2017  Afghanistan              Slovakia                  7\n",
              "20533       20591  2017      Albania                France              88214\n",
              "20534       20592  2017      Algeria                France              16745\n",
              "20535       20593  2017      Algeria           Switzerland                374\n",
              "20536       20594  2017      Algeria  United Arab Emirates                 14\n",
              "...           ...   ...          ...                   ...                ...\n",
              "22784       22850  2017        Yemen  United Arab Emirates              20774\n",
              "22785       22851  2017       Zambia                Malawi               3139\n",
              "22786       22852  2017     Zimbabwe            Areas, nes            5280000\n",
              "22787       22853  2017     Zimbabwe          South Africa                 19\n",
              "22788       22854  2017     Zimbabwe                Zambia            3737105\n",
              "\n",
              "[2257 rows x 5 columns]"
            ],
            "text/html": [
              "\n",
              "  <div id=\"df-d3667680-ed57-4506-a244-3c81aa51477d\">\n",
              "    <div class=\"colab-df-container\">\n",
              "      <div>\n",
              "<style scoped>\n",
              "    .dataframe tbody tr th:only-of-type {\n",
              "        vertical-align: middle;\n",
              "    }\n",
              "\n",
              "    .dataframe tbody tr th {\n",
              "        vertical-align: top;\n",
              "    }\n",
              "\n",
              "    .dataframe thead th {\n",
              "        text-align: right;\n",
              "    }\n",
              "</style>\n",
              "<table border=\"1\" class=\"dataframe\">\n",
              "  <thead>\n",
              "    <tr style=\"text-align: right;\">\n",
              "      <th></th>\n",
              "      <th>Unnamed: 0</th>\n",
              "      <th>Year</th>\n",
              "      <th>From</th>\n",
              "      <th>To</th>\n",
              "      <th>Trade Value (US$)</th>\n",
              "    </tr>\n",
              "  </thead>\n",
              "  <tbody>\n",
              "    <tr>\n",
              "      <th>20532</th>\n",
              "      <td>20590</td>\n",
              "      <td>2017</td>\n",
              "      <td>Afghanistan</td>\n",
              "      <td>Slovakia</td>\n",
              "      <td>7</td>\n",
              "    </tr>\n",
              "    <tr>\n",
              "      <th>20533</th>\n",
              "      <td>20591</td>\n",
              "      <td>2017</td>\n",
              "      <td>Albania</td>\n",
              "      <td>France</td>\n",
              "      <td>88214</td>\n",
              "    </tr>\n",
              "    <tr>\n",
              "      <th>20534</th>\n",
              "      <td>20592</td>\n",
              "      <td>2017</td>\n",
              "      <td>Algeria</td>\n",
              "      <td>France</td>\n",
              "      <td>16745</td>\n",
              "    </tr>\n",
              "    <tr>\n",
              "      <th>20535</th>\n",
              "      <td>20593</td>\n",
              "      <td>2017</td>\n",
              "      <td>Algeria</td>\n",
              "      <td>Switzerland</td>\n",
              "      <td>374</td>\n",
              "    </tr>\n",
              "    <tr>\n",
              "      <th>20536</th>\n",
              "      <td>20594</td>\n",
              "      <td>2017</td>\n",
              "      <td>Algeria</td>\n",
              "      <td>United Arab Emirates</td>\n",
              "      <td>14</td>\n",
              "    </tr>\n",
              "    <tr>\n",
              "      <th>...</th>\n",
              "      <td>...</td>\n",
              "      <td>...</td>\n",
              "      <td>...</td>\n",
              "      <td>...</td>\n",
              "      <td>...</td>\n",
              "    </tr>\n",
              "    <tr>\n",
              "      <th>22784</th>\n",
              "      <td>22850</td>\n",
              "      <td>2017</td>\n",
              "      <td>Yemen</td>\n",
              "      <td>United Arab Emirates</td>\n",
              "      <td>20774</td>\n",
              "    </tr>\n",
              "    <tr>\n",
              "      <th>22785</th>\n",
              "      <td>22851</td>\n",
              "      <td>2017</td>\n",
              "      <td>Zambia</td>\n",
              "      <td>Malawi</td>\n",
              "      <td>3139</td>\n",
              "    </tr>\n",
              "    <tr>\n",
              "      <th>22786</th>\n",
              "      <td>22852</td>\n",
              "      <td>2017</td>\n",
              "      <td>Zimbabwe</td>\n",
              "      <td>Areas, nes</td>\n",
              "      <td>5280000</td>\n",
              "    </tr>\n",
              "    <tr>\n",
              "      <th>22787</th>\n",
              "      <td>22853</td>\n",
              "      <td>2017</td>\n",
              "      <td>Zimbabwe</td>\n",
              "      <td>South Africa</td>\n",
              "      <td>19</td>\n",
              "    </tr>\n",
              "    <tr>\n",
              "      <th>22788</th>\n",
              "      <td>22854</td>\n",
              "      <td>2017</td>\n",
              "      <td>Zimbabwe</td>\n",
              "      <td>Zambia</td>\n",
              "      <td>3737105</td>\n",
              "    </tr>\n",
              "  </tbody>\n",
              "</table>\n",
              "<p>2257 rows × 5 columns</p>\n",
              "</div>\n",
              "      <button class=\"colab-df-convert\" onclick=\"convertToInteractive('df-d3667680-ed57-4506-a244-3c81aa51477d')\"\n",
              "              title=\"Convert this dataframe to an interactive table.\"\n",
              "              style=\"display:none;\">\n",
              "        \n",
              "  <svg xmlns=\"http://www.w3.org/2000/svg\" height=\"24px\"viewBox=\"0 0 24 24\"\n",
              "       width=\"24px\">\n",
              "    <path d=\"M0 0h24v24H0V0z\" fill=\"none\"/>\n",
              "    <path d=\"M18.56 5.44l.94 2.06.94-2.06 2.06-.94-2.06-.94-.94-2.06-.94 2.06-2.06.94zm-11 1L8.5 8.5l.94-2.06 2.06-.94-2.06-.94L8.5 2.5l-.94 2.06-2.06.94zm10 10l.94 2.06.94-2.06 2.06-.94-2.06-.94-.94-2.06-.94 2.06-2.06.94z\"/><path d=\"M17.41 7.96l-1.37-1.37c-.4-.4-.92-.59-1.43-.59-.52 0-1.04.2-1.43.59L10.3 9.45l-7.72 7.72c-.78.78-.78 2.05 0 2.83L4 21.41c.39.39.9.59 1.41.59.51 0 1.02-.2 1.41-.59l7.78-7.78 2.81-2.81c.8-.78.8-2.07 0-2.86zM5.41 20L4 18.59l7.72-7.72 1.47 1.35L5.41 20z\"/>\n",
              "  </svg>\n",
              "      </button>\n",
              "      \n",
              "  <style>\n",
              "    .colab-df-container {\n",
              "      display:flex;\n",
              "      flex-wrap:wrap;\n",
              "      gap: 12px;\n",
              "    }\n",
              "\n",
              "    .colab-df-convert {\n",
              "      background-color: #E8F0FE;\n",
              "      border: none;\n",
              "      border-radius: 50%;\n",
              "      cursor: pointer;\n",
              "      display: none;\n",
              "      fill: #1967D2;\n",
              "      height: 32px;\n",
              "      padding: 0 0 0 0;\n",
              "      width: 32px;\n",
              "    }\n",
              "\n",
              "    .colab-df-convert:hover {\n",
              "      background-color: #E2EBFA;\n",
              "      box-shadow: 0px 1px 2px rgba(60, 64, 67, 0.3), 0px 1px 3px 1px rgba(60, 64, 67, 0.15);\n",
              "      fill: #174EA6;\n",
              "    }\n",
              "\n",
              "    [theme=dark] .colab-df-convert {\n",
              "      background-color: #3B4455;\n",
              "      fill: #D2E3FC;\n",
              "    }\n",
              "\n",
              "    [theme=dark] .colab-df-convert:hover {\n",
              "      background-color: #434B5C;\n",
              "      box-shadow: 0px 1px 3px 1px rgba(0, 0, 0, 0.15);\n",
              "      filter: drop-shadow(0px 1px 2px rgba(0, 0, 0, 0.3));\n",
              "      fill: #FFFFFF;\n",
              "    }\n",
              "  </style>\n",
              "\n",
              "      <script>\n",
              "        const buttonEl =\n",
              "          document.querySelector('#df-d3667680-ed57-4506-a244-3c81aa51477d button.colab-df-convert');\n",
              "        buttonEl.style.display =\n",
              "          google.colab.kernel.accessAllowed ? 'block' : 'none';\n",
              "\n",
              "        async function convertToInteractive(key) {\n",
              "          const element = document.querySelector('#df-d3667680-ed57-4506-a244-3c81aa51477d');\n",
              "          const dataTable =\n",
              "            await google.colab.kernel.invokeFunction('convertToInteractive',\n",
              "                                                     [key], {});\n",
              "          if (!dataTable) return;\n",
              "\n",
              "          const docLinkHtml = 'Like what you see? Visit the ' +\n",
              "            '<a target=\"_blank\" href=https://colab.research.google.com/notebooks/data_table.ipynb>data table notebook</a>'\n",
              "            + ' to learn more about interactive tables.';\n",
              "          element.innerHTML = '';\n",
              "          dataTable['output_type'] = 'display_data';\n",
              "          await google.colab.output.renderOutput(dataTable, element);\n",
              "          const docLink = document.createElement('div');\n",
              "          docLink.innerHTML = docLinkHtml;\n",
              "          element.appendChild(docLink);\n",
              "        }\n",
              "      </script>\n",
              "    </div>\n",
              "  </div>\n",
              "  "
            ]
          },
          "metadata": {},
          "execution_count": 5
        }
      ],
      "source": [
        "wheat_data = {}\n",
        "\n",
        "startYear = min(df['Year'])\n",
        "endYear = max(df['Year'])\n",
        "print(f'Dataset from {startYear} to {endYear}\\n')\n",
        "\n",
        "for year in range(startYear, endYear+1):\n",
        "    wheat_data[ str(year) ] = df.loc[df['Year'] == year].copy()\n",
        "    print(year, '\\t', wheat_data[ str(year) ].shape)\n",
        "\n",
        "wheat_data['2017'] # example"
      ]
    },
    {
      "cell_type": "code",
      "execution_count": 6,
      "metadata": {
        "id": "DUnZM0dj1oaK",
        "colab": {
          "base_uri": "https://localhost:8080/"
        },
        "outputId": "d3a4da52-4998-49ef-df4e-244b88fffc87"
      },
      "outputs": [
        {
          "output_type": "stream",
          "name": "stdout",
          "text": [
            "In 2006, there were 202 reported countires\n",
            "In 2007, there were 203 reported countires\n",
            "In 2008, there were 204 reported countires\n",
            "In 2009, there were 202 reported countires\n",
            "In 2010, there were 205 reported countires\n",
            "In 2011, there were 196 reported countires\n",
            "In 2012, there were 196 reported countires\n",
            "In 2013, there were 196 reported countires\n",
            "In 2014, there were 199 reported countires\n",
            "In 2015, there were 196 reported countires\n",
            "In 2016, there were 200 reported countires\n",
            "In 2017, there were 205 reported countires\n",
            "In 2018, there were 204 reported countires\n",
            "In 2019, there were 206 reported countires\n",
            "In 2020, there were 198 reported countires\n",
            "In 2021, there were 188 reported countires\n"
          ]
        }
      ],
      "source": [
        "# the number of countries reported to UN\n",
        "\n",
        "for year in range(startYear, endYear+1):\n",
        "    num = 0 # initialize\n",
        "    num = pd.concat([wheat_data[str(year)]['From'], wheat_data[str(year)]['To']], ignore_index=True).nunique()\n",
        "    print(f\"In {year}, there were {num} reported countires\")"
      ]
    },
    {
      "cell_type": "code",
      "execution_count": 7,
      "metadata": {
        "id": "TCyla8XP8nyD",
        "colab": {
          "base_uri": "https://localhost:8080/"
        },
        "outputId": "4db3500e-e468-4097-be00-bc8615fb394d"
      },
      "outputs": [
        {
          "output_type": "stream",
          "name": "stdout",
          "text": [
            "['Afghanistan' 'Albania' 'Algeria' 'Andorra' 'Angola' 'Anguilla'\n",
            " 'Antarctica' 'Antigua and Barbuda' 'Areas, nes' 'Argentina' 'Armenia'\n",
            " 'Aruba' 'Australia' 'Austria' 'Azerbaijan' 'Bahamas' 'Bahrain'\n",
            " 'Bangladesh' 'Barbados' 'Belarus' 'Belgium' 'Belize' 'Benin' 'Bermuda'\n",
            " 'Bhutan' 'Bolivia (Plurinational State of)' 'Bonaire'\n",
            " 'Bosnia Herzegovina' 'Botswana' 'Bouvet Island' 'Br. Virgin Isds'\n",
            " 'Brazil' 'Brunei Darussalam' 'Bulgaria' 'Bunkers' 'Burkina Faso'\n",
            " 'Burundi' 'Cabo Verde' 'Cambodia' 'Cameroon' 'Canada' 'Cayman Isds'\n",
            " 'Central African Rep.' 'Chad' 'Chile' 'China' 'China, Hong Kong SAR'\n",
            " 'China, Macao SAR' 'Colombia' 'Comoros' 'Congo' 'Cook Isds' 'Costa Rica'\n",
            " 'Croatia' 'Cuba' 'Curaçao' 'Cyprus' 'Czechia' \"Côte d'Ivoire\"\n",
            " \"Dem. People's Rep. of Korea\" 'Dem. Rep. of the Congo' 'Denmark'\n",
            " 'Djibouti' 'Dominica' 'Dominican Rep.' 'Ecuador' 'Egypt' 'El Salvador'\n",
            " 'Equatorial Guinea' 'Eritrea' 'Estonia' 'Eswatini' 'Ethiopia'\n",
            " 'FS Micronesia' 'Faeroe Isds' 'Falkland Isds (Malvinas)' 'Fiji' 'Finland'\n",
            " 'Fmr Sudan' 'France' 'Free Zones' 'French Polynesia' 'Gabon' 'Gambia'\n",
            " 'Georgia' 'Germany' 'Ghana' 'Gibraltar' 'Greece' 'Greenland' 'Grenada'\n",
            " 'Guam' 'Guatemala' 'Guinea' 'Guinea-Bissau' 'Guyana' 'Haiti' 'Honduras'\n",
            " 'Hungary' 'Iceland' 'India' 'Indonesia' 'Iran' 'Iraq' 'Ireland' 'Israel'\n",
            " 'Italy' 'Jamaica' 'Japan' 'Jordan' 'Kazakhstan' 'Kenya' 'Kiribati'\n",
            " 'Kuwait' 'Kyrgyzstan' \"Lao People's Dem. Rep.\" 'Latvia' 'Lebanon'\n",
            " 'Lesotho' 'Liberia' 'Libya' 'Lithuania' 'Luxembourg' 'Madagascar'\n",
            " 'Malawi' 'Malaysia' 'Maldives' 'Mali' 'Malta' 'Marshall Isds'\n",
            " 'Mauritania' 'Mauritius' 'Mayotte' 'Mexico' 'Mongolia' 'Montenegro'\n",
            " 'Montserrat' 'Morocco' 'Mozambique' 'Myanmar' 'N. Mariana Isds' 'Namibia'\n",
            " 'Nauru' 'Nepal' 'Neth. Antilles' 'Netherlands' 'Neutral Zone'\n",
            " 'New Caledonia' 'New Zealand' 'Nicaragua' 'Niger' 'Nigeria' 'Niue'\n",
            " 'North Macedonia' 'Norway' 'Oman' 'Other Asia, nes' 'Other Europe, nes'\n",
            " 'Pakistan' 'Palau' 'Panama' 'Papua New Guinea' 'Paraguay' 'Peru'\n",
            " 'Philippines' 'Pitcairn' 'Poland' 'Portugal' 'Qatar' 'Rep. of Korea'\n",
            " 'Rep. of Moldova' 'Romania' 'Russian Federation' 'Rwanda' 'Saint Helena'\n",
            " 'Saint Kitts and Nevis' 'Saint Lucia' 'Saint Maarten'\n",
            " 'Saint Pierre and Miquelon' 'Saint Vincent and the Grenadines' 'Samoa'\n",
            " 'Sao Tome and Principe' 'Saudi Arabia' 'Senegal' 'Serbia'\n",
            " 'Serbia and Montenegro' 'Seychelles' 'Sierra Leone' 'Singapore'\n",
            " 'Slovakia' 'Slovenia' 'Solomon Isds' 'Somalia' 'South Africa'\n",
            " 'South Sudan' 'Spain' 'Special Categories' 'Sri Lanka'\n",
            " 'State of Palestine' 'Sudan' 'Suriname' 'Sweden' 'Switzerland' 'Syria'\n",
            " 'Tajikistan' 'Thailand' 'Timor-Leste' 'Togo' 'Tokelau' 'Tonga'\n",
            " 'Trinidad and Tobago' 'Tunisia' 'Turkey' 'Turkmenistan'\n",
            " 'Turks and Caicos Isds' 'Tuvalu' 'USA' 'Uganda' 'Ukraine'\n",
            " 'United Arab Emirates' 'United Kingdom' 'United Rep. of Tanzania'\n",
            " 'United States Minor Outlying Islands' 'Uruguay' 'Uzbekistan' 'Vanuatu'\n",
            " 'Venezuela' 'Viet Nam' 'Wallis and Futuna Isds' 'Yemen' 'Zambia'\n",
            " 'Zimbabwe'] \n",
            "\n",
            " 232\n"
          ]
        }
      ],
      "source": [
        "# Whole num/list of countries reported to UN\n",
        "\n",
        "whole_Clist = pd.concat([df['From'], df['To']], ignore_index=True).unique()\n",
        "whole_Cnum = len(whole_Clist)\n",
        "\n",
        "print(np.sort(whole_Clist), '\\n\\n', whole_Cnum)"
      ]
    },
    {
      "cell_type": "markdown",
      "metadata": {
        "id": "a-L48Nlj4Ryj"
      },
      "source": [
        "# Network processing"
      ]
    },
    {
      "cell_type": "markdown",
      "metadata": {
        "id": "AXaPsjg_IhQX"
      },
      "source": [
        "## Graph making"
      ]
    },
    {
      "cell_type": "code",
      "execution_count": 8,
      "metadata": {
        "id": "5VINQjnE4cf6",
        "colab": {
          "base_uri": "https://localhost:8080/"
        },
        "outputId": "ad7200bf-bb6e-42b1-b373-6c7e463ca349"
      },
      "outputs": [
        {
          "output_type": "stream",
          "name": "stdout",
          "text": [
            "Graph of 2006 : DiGraph with 202 nodes and 1852 edges\n",
            "Graph of 2007 : DiGraph with 203 nodes and 1844 edges\n",
            "Graph of 2008 : DiGraph with 204 nodes and 2019 edges\n",
            "Graph of 2009 : DiGraph with 202 nodes and 1980 edges\n",
            "Graph of 2010 : DiGraph with 205 nodes and 2113 edges\n",
            "Graph of 2011 : DiGraph with 196 nodes and 1665 edges\n",
            "Graph of 2012 : DiGraph with 196 nodes and 1630 edges\n",
            "Graph of 2013 : DiGraph with 196 nodes and 1697 edges\n",
            "Graph of 2014 : DiGraph with 199 nodes and 1690 edges\n",
            "Graph of 2015 : DiGraph with 196 nodes and 1849 edges\n",
            "Graph of 2016 : DiGraph with 200 nodes and 2193 edges\n",
            "Graph of 2017 : DiGraph with 205 nodes and 2257 edges\n",
            "Graph of 2018 : DiGraph with 204 nodes and 2164 edges\n",
            "Graph of 2019 : DiGraph with 206 nodes and 2219 edges\n",
            "Graph of 2020 : DiGraph with 198 nodes and 2107 edges\n",
            "Graph of 2021 : DiGraph with 188 nodes and 1553 edges\n"
          ]
        }
      ],
      "source": [
        "wheat = {}\n",
        "\n",
        "for year in range(startYear, endYear+1):\n",
        "    wheat[ str(year) ] = nx.from_pandas_edgelist(wheat_data[ str(year) ], source='From', target='To', \n",
        "                                                 edge_attr='Trade Value (US$)', create_using=nx.DiGraph()) # Directed Graph\n",
        "    print(f'Graph of {year} : {nx.info(wheat[ str(year) ])}')"
      ]
    },
    {
      "cell_type": "code",
      "execution_count": 9,
      "metadata": {
        "id": "B0GK8JGRBEwb",
        "colab": {
          "base_uri": "https://localhost:8080/",
          "height": 116
        },
        "outputId": "83713e27-b4a3-4703-a810-9cfdfaddcf34"
      },
      "outputs": [
        {
          "output_type": "stream",
          "name": "stdout",
          "text": [
            "722606760 \n",
            "\n"
          ]
        },
        {
          "output_type": "execute_result",
          "data": {
            "text/plain": [
              "       Unnamed: 0  Year From             To  Trade Value (US$)\n",
              "29056       29143  2020  USA  Rep. of Korea          722606760"
            ],
            "text/html": [
              "\n",
              "  <div id=\"df-db35a44d-9b82-4d9d-994b-72f377014569\">\n",
              "    <div class=\"colab-df-container\">\n",
              "      <div>\n",
              "<style scoped>\n",
              "    .dataframe tbody tr th:only-of-type {\n",
              "        vertical-align: middle;\n",
              "    }\n",
              "\n",
              "    .dataframe tbody tr th {\n",
              "        vertical-align: top;\n",
              "    }\n",
              "\n",
              "    .dataframe thead th {\n",
              "        text-align: right;\n",
              "    }\n",
              "</style>\n",
              "<table border=\"1\" class=\"dataframe\">\n",
              "  <thead>\n",
              "    <tr style=\"text-align: right;\">\n",
              "      <th></th>\n",
              "      <th>Unnamed: 0</th>\n",
              "      <th>Year</th>\n",
              "      <th>From</th>\n",
              "      <th>To</th>\n",
              "      <th>Trade Value (US$)</th>\n",
              "    </tr>\n",
              "  </thead>\n",
              "  <tbody>\n",
              "    <tr>\n",
              "      <th>29056</th>\n",
              "      <td>29143</td>\n",
              "      <td>2020</td>\n",
              "      <td>USA</td>\n",
              "      <td>Rep. of Korea</td>\n",
              "      <td>722606760</td>\n",
              "    </tr>\n",
              "  </tbody>\n",
              "</table>\n",
              "</div>\n",
              "      <button class=\"colab-df-convert\" onclick=\"convertToInteractive('df-db35a44d-9b82-4d9d-994b-72f377014569')\"\n",
              "              title=\"Convert this dataframe to an interactive table.\"\n",
              "              style=\"display:none;\">\n",
              "        \n",
              "  <svg xmlns=\"http://www.w3.org/2000/svg\" height=\"24px\"viewBox=\"0 0 24 24\"\n",
              "       width=\"24px\">\n",
              "    <path d=\"M0 0h24v24H0V0z\" fill=\"none\"/>\n",
              "    <path d=\"M18.56 5.44l.94 2.06.94-2.06 2.06-.94-2.06-.94-.94-2.06-.94 2.06-2.06.94zm-11 1L8.5 8.5l.94-2.06 2.06-.94-2.06-.94L8.5 2.5l-.94 2.06-2.06.94zm10 10l.94 2.06.94-2.06 2.06-.94-2.06-.94-.94-2.06-.94 2.06-2.06.94z\"/><path d=\"M17.41 7.96l-1.37-1.37c-.4-.4-.92-.59-1.43-.59-.52 0-1.04.2-1.43.59L10.3 9.45l-7.72 7.72c-.78.78-.78 2.05 0 2.83L4 21.41c.39.39.9.59 1.41.59.51 0 1.02-.2 1.41-.59l7.78-7.78 2.81-2.81c.8-.78.8-2.07 0-2.86zM5.41 20L4 18.59l7.72-7.72 1.47 1.35L5.41 20z\"/>\n",
              "  </svg>\n",
              "      </button>\n",
              "      \n",
              "  <style>\n",
              "    .colab-df-container {\n",
              "      display:flex;\n",
              "      flex-wrap:wrap;\n",
              "      gap: 12px;\n",
              "    }\n",
              "\n",
              "    .colab-df-convert {\n",
              "      background-color: #E8F0FE;\n",
              "      border: none;\n",
              "      border-radius: 50%;\n",
              "      cursor: pointer;\n",
              "      display: none;\n",
              "      fill: #1967D2;\n",
              "      height: 32px;\n",
              "      padding: 0 0 0 0;\n",
              "      width: 32px;\n",
              "    }\n",
              "\n",
              "    .colab-df-convert:hover {\n",
              "      background-color: #E2EBFA;\n",
              "      box-shadow: 0px 1px 2px rgba(60, 64, 67, 0.3), 0px 1px 3px 1px rgba(60, 64, 67, 0.15);\n",
              "      fill: #174EA6;\n",
              "    }\n",
              "\n",
              "    [theme=dark] .colab-df-convert {\n",
              "      background-color: #3B4455;\n",
              "      fill: #D2E3FC;\n",
              "    }\n",
              "\n",
              "    [theme=dark] .colab-df-convert:hover {\n",
              "      background-color: #434B5C;\n",
              "      box-shadow: 0px 1px 3px 1px rgba(0, 0, 0, 0.15);\n",
              "      filter: drop-shadow(0px 1px 2px rgba(0, 0, 0, 0.3));\n",
              "      fill: #FFFFFF;\n",
              "    }\n",
              "  </style>\n",
              "\n",
              "      <script>\n",
              "        const buttonEl =\n",
              "          document.querySelector('#df-db35a44d-9b82-4d9d-994b-72f377014569 button.colab-df-convert');\n",
              "        buttonEl.style.display =\n",
              "          google.colab.kernel.accessAllowed ? 'block' : 'none';\n",
              "\n",
              "        async function convertToInteractive(key) {\n",
              "          const element = document.querySelector('#df-db35a44d-9b82-4d9d-994b-72f377014569');\n",
              "          const dataTable =\n",
              "            await google.colab.kernel.invokeFunction('convertToInteractive',\n",
              "                                                     [key], {});\n",
              "          if (!dataTable) return;\n",
              "\n",
              "          const docLinkHtml = 'Like what you see? Visit the ' +\n",
              "            '<a target=\"_blank\" href=https://colab.research.google.com/notebooks/data_table.ipynb>data table notebook</a>'\n",
              "            + ' to learn more about interactive tables.';\n",
              "          element.innerHTML = '';\n",
              "          dataTable['output_type'] = 'display_data';\n",
              "          await google.colab.output.renderOutput(dataTable, element);\n",
              "          const docLink = document.createElement('div');\n",
              "          docLink.innerHTML = docLinkHtml;\n",
              "          element.appendChild(docLink);\n",
              "        }\n",
              "      </script>\n",
              "    </div>\n",
              "  </div>\n",
              "  "
            ]
          },
          "metadata": {},
          "execution_count": 9
        }
      ],
      "source": [
        "print(wheat['2020']['USA']['Rep. of Korea']['Trade Value (US$)'], '\\n')\n",
        "pd.DataFrame(wheat_data['2020'].loc[(wheat_data['2020'].From == 'USA') & (wheat_data['2020'].To == 'Rep. of Korea')])"
      ]
    },
    {
      "cell_type": "code",
      "source": [
        "# finding independent, moderate, dependent node in Graph\n",
        "def nodeProportion(G):\n",
        "  sum_ratio = 0\n",
        "  all_ratio = {}\n",
        "  high_nodes = []\n",
        "  other_nodes = []\n",
        "  for node in list(G.nodes()):\n",
        "      sum_ratio += G.out_degree(node, weight='Trade Value (US$)')\n",
        "\n",
        "  for node in list(G.nodes()):\n",
        "      ratio = (G.out_degree(node, weight='Trade Value (US$)') / sum_ratio) * 100\n",
        "      all_ratio[node] =  ratio\n",
        "\n",
        "  # 세계 수출의 5% 이상을 차지하는 노드 파악\n",
        "  for node in list(G.nodes()):\n",
        "    high_nodes.append(node) if all_ratio[node] > 1 else other_nodes.append(node)\n",
        "\n",
        "  return high_nodes, other_nodes"
      ],
      "metadata": {
        "id": "Rf9OGwBUELQV"
      },
      "execution_count": 10,
      "outputs": []
    },
    {
      "cell_type": "code",
      "source": [
        "def DiGraphPlot_all(G, year):\n",
        "    fig, ax = plt.subplots()\n",
        "    fig.set_size_inches((64, 64))\n",
        "    \n",
        "    plt.rcParams.update({\n",
        "        \"figure.facecolor\":  (1.0, 229/255, 204/255, 0.3),  # with alpha = 30%\n",
        "        \"savefig.facecolor\": (1.0, 229/255, 204/255, 0.3),  # with alpha = 30%\n",
        "    })\n",
        "\n",
        "    # nodelist by dependency\n",
        "    high_nodes, other_nodes = nodeProportion(G)\n",
        "    \n",
        "    ## layout 설정\n",
        "    layout = {\"circular layout of Countries in {}\".format(year) : nx.circular_layout(G)}\n",
        "              \n",
        "    for _, item in enumerate(layout.items()):\n",
        "        title, pos = item[0], item[1]\n",
        "        nx.draw_networkx(G, pos=pos, font_color=\"white\", ax=ax, font_size=8)\n",
        "        \n",
        "        # 수입 의존도가 낮은 노드\n",
        "        nx.draw_networkx_nodes(G, pos,\n",
        "                               nodelist = high_nodes,\n",
        "                               node_color=\"tab:blue\",\n",
        "                               node_size = 5000)        \n",
        "        \n",
        "        # 나머지 노드\n",
        "        nx.draw_networkx_nodes(G, pos,\n",
        "                               nodelist = other_nodes,\n",
        "                               node_color=\"black\",\n",
        "                               node_size = 5000)\n",
        "        \n",
        "        # arrow style 지정\n",
        "        nx.draw_networkx_edges(G, pos, edge_color='k', arrowsize=15, connectionstyle='arc3', min_target_margin=30)\n",
        "\n",
        "        \n",
        "        ax.set_title(title, fontsize=40)\n",
        "        ax.axis('off')\n",
        "\n",
        "    plt.tight_layout()\n",
        "    plt.savefig(f\"/content/drive/Shareddrives/22-1 데이터마이닝/TermProject/Louvain_Analysis/worldIMG/worldGraph_in_{year}.png\",\n",
        "                # dpi = 200, # 해상도\n",
        "                bbox_inches='tight' # \n",
        "                )\n",
        "    plt.show()\n",
        "    plt.close()"
      ],
      "metadata": {
        "id": "iZ9EQM8jELQW"
      },
      "execution_count": 11,
      "outputs": []
    },
    {
      "cell_type": "code",
      "source": [
        "# import time\n",
        "# from tqdm import tqdm\n",
        "\n",
        "# # saving each plot images\n",
        "# for year in tqdm(range(2011, endYear+1), desc = \"plotting DiGraph\", mininterval=0.01):\n",
        "#     DiGraphPlot_all(wheat[str(year)], year)"
      ],
      "metadata": {
        "id": "a0k7RQejSq8X"
      },
      "execution_count": 12,
      "outputs": []
    },
    {
      "cell_type": "markdown",
      "metadata": {
        "id": "JGLxyWbZIy5C"
      },
      "source": [
        "## Structure analysis"
      ]
    },
    {
      "cell_type": "code",
      "execution_count": 13,
      "metadata": {
        "id": "FFgl24KQIm3g",
        "colab": {
          "base_uri": "https://localhost:8080/",
          "height": 1000
        },
        "outputId": "842896bb-719b-4711-873a-8b2e34ee9f04"
      },
      "outputs": [
        {
          "output_type": "display_data",
          "data": {
            "text/plain": [
              "<Figure size 1152x1728 with 16 Axes>"
            ],
            "image/png": "[encoded data removed]"
          },
          "metadata": {
            "needs_background": "light"
          }
        }
      ],
      "source": [
        "fig, ax = plt.subplots(nrows=4, ncols=4, figsize=(16, 24))\n",
        "i = 0\n",
        "\n",
        "for year in range(startYear, endYear+1):\n",
        "    sns.histplot(dict(nx.degree(wheat[ str(year) ])).values(), ax=ax[i//4, i%4]).set_title(f'Year: {year}')\n",
        "    i += 1\n",
        "\n",
        "plt.show()"
      ]
    },
    {
      "cell_type": "code",
      "execution_count": 14,
      "metadata": {
        "id": "wcpjLVZzAhgB"
      },
      "outputs": [],
      "source": [
        "strInfo = {}\n",
        "strInfoLst = {'dia': [], 'den': [], 'trans': [], 'recip': []}\n",
        "\n",
        "for year in range(startYear, endYear+1):\n",
        "    strInfo[ str(year) ] = {}\n",
        "\n",
        "    strInfo[ str(year) ]['dia'] = nx.diameter(nx.to_undirected(wheat[ str(year) ]))\n",
        "    strInfo[ str(year) ]['den'] = nx.density(nx.to_undirected(wheat[ str(year) ]))\n",
        "    strInfo[ str(year) ]['trans'] = nx.transitivity(nx.to_undirected(wheat[ str(year) ])) # 방향성 제거\n",
        "    strInfo[ str(year) ]['recip'] = nx.reciprocity(wheat[ str(year) ])\n",
        "\n",
        "    for key in strInfo[ str(year) ].keys():\n",
        "        strInfoLst[key].append(strInfo[ str(year) ][key])"
      ]
    },
    {
      "cell_type": "code",
      "execution_count": 15,
      "metadata": {
        "id": "HMi35eJvqlXi",
        "colab": {
          "base_uri": "https://localhost:8080/",
          "height": 551
        },
        "outputId": "dac4c157-9804-4d86-d292-abfa9c5852eb"
      },
      "outputs": [
        {
          "output_type": "execute_result",
          "data": {
            "text/plain": [
              "      dia       den     trans     recip\n",
              "2006    5  0.091227  0.320869  0.293737\n",
              "2007    5  0.089938  0.317475  0.312364\n",
              "2008    5  0.097508  0.332058  0.304111\n",
              "2009    5  0.097532  0.331290  0.327273\n",
              "2010    5  0.101052  0.343036  0.326550\n",
              "2011    5  0.087127  0.298270  0.313514\n",
              "2012    5  0.085296  0.289223  0.320245\n",
              "2013    5  0.088802  0.298291  0.304066\n",
              "2014    5  0.085782  0.308720  0.305325\n",
              "2015    5  0.096756  0.318202  0.358031\n",
              "2016    5  0.110201  0.355592  0.363885\n",
              "2017    5  0.107939  0.357530  0.380151\n",
              "2018    4  0.104511  0.346518  0.365065\n",
              "2019    5  0.105091  0.343977  0.361424\n",
              "2020    4  0.108035  0.344869  0.353109\n",
              "2021    5  0.088349  0.326398  0.418545"
            ],
            "text/html": [
              "\n",
              "  <div id=\"df-e4bbdec7-89ee-4b9b-9df1-de9f30e355e4\">\n",
              "    <div class=\"colab-df-container\">\n",
              "      <div>\n",
              "<style scoped>\n",
              "    .dataframe tbody tr th:only-of-type {\n",
              "        vertical-align: middle;\n",
              "    }\n",
              "\n",
              "    .dataframe tbody tr th {\n",
              "        vertical-align: top;\n",
              "    }\n",
              "\n",
              "    .dataframe thead th {\n",
              "        text-align: right;\n",
              "    }\n",
              "</style>\n",
              "<table border=\"1\" class=\"dataframe\">\n",
              "  <thead>\n",
              "    <tr style=\"text-align: right;\">\n",
              "      <th></th>\n",
              "      <th>dia</th>\n",
              "      <th>den</th>\n",
              "      <th>trans</th>\n",
              "      <th>recip</th>\n",
              "    </tr>\n",
              "  </thead>\n",
              "  <tbody>\n",
              "    <tr>\n",
              "      <th>2006</th>\n",
              "      <td>5</td>\n",
              "      <td>0.091227</td>\n",
              "      <td>0.320869</td>\n",
              "      <td>0.293737</td>\n",
              "    </tr>\n",
              "    <tr>\n",
              "      <th>2007</th>\n",
              "      <td>5</td>\n",
              "      <td>0.089938</td>\n",
              "      <td>0.317475</td>\n",
              "      <td>0.312364</td>\n",
              "    </tr>\n",
              "    <tr>\n",
              "      <th>2008</th>\n",
              "      <td>5</td>\n",
              "      <td>0.097508</td>\n",
              "      <td>0.332058</td>\n",
              "      <td>0.304111</td>\n",
              "    </tr>\n",
              "    <tr>\n",
              "      <th>2009</th>\n",
              "      <td>5</td>\n",
              "      <td>0.097532</td>\n",
              "      <td>0.331290</td>\n",
              "      <td>0.327273</td>\n",
              "    </tr>\n",
              "    <tr>\n",
              "      <th>2010</th>\n",
              "      <td>5</td>\n",
              "      <td>0.101052</td>\n",
              "      <td>0.343036</td>\n",
              "      <td>0.326550</td>\n",
              "    </tr>\n",
              "    <tr>\n",
              "      <th>2011</th>\n",
              "      <td>5</td>\n",
              "      <td>0.087127</td>\n",
              "      <td>0.298270</td>\n",
              "      <td>0.313514</td>\n",
              "    </tr>\n",
              "    <tr>\n",
              "      <th>2012</th>\n",
              "      <td>5</td>\n",
              "      <td>0.085296</td>\n",
              "      <td>0.289223</td>\n",
              "      <td>0.320245</td>\n",
              "    </tr>\n",
              "    <tr>\n",
              "      <th>2013</th>\n",
              "      <td>5</td>\n",
              "      <td>0.088802</td>\n",
              "      <td>0.298291</td>\n",
              "      <td>0.304066</td>\n",
              "    </tr>\n",
              "    <tr>\n",
              "      <th>2014</th>\n",
              "      <td>5</td>\n",
              "      <td>0.085782</td>\n",
              "      <td>0.308720</td>\n",
              "      <td>0.305325</td>\n",
              "    </tr>\n",
              "    <tr>\n",
              "      <th>2015</th>\n",
              "      <td>5</td>\n",
              "      <td>0.096756</td>\n",
              "      <td>0.318202</td>\n",
              "      <td>0.358031</td>\n",
              "    </tr>\n",
              "    <tr>\n",
              "      <th>2016</th>\n",
              "      <td>5</td>\n",
              "      <td>0.110201</td>\n",
              "      <td>0.355592</td>\n",
              "      <td>0.363885</td>\n",
              "    </tr>\n",
              "    <tr>\n",
              "      <th>2017</th>\n",
              "      <td>5</td>\n",
              "      <td>0.107939</td>\n",
              "      <td>0.357530</td>\n",
              "      <td>0.380151</td>\n",
              "    </tr>\n",
              "    <tr>\n",
              "      <th>2018</th>\n",
              "      <td>4</td>\n",
              "      <td>0.104511</td>\n",
              "      <td>0.346518</td>\n",
              "      <td>0.365065</td>\n",
              "    </tr>\n",
              "    <tr>\n",
              "      <th>2019</th>\n",
              "      <td>5</td>\n",
              "      <td>0.105091</td>\n",
              "      <td>0.343977</td>\n",
              "      <td>0.361424</td>\n",
              "    </tr>\n",
              "    <tr>\n",
              "      <th>2020</th>\n",
              "      <td>4</td>\n",
              "      <td>0.108035</td>\n",
              "      <td>0.344869</td>\n",
              "      <td>0.353109</td>\n",
              "    </tr>\n",
              "    <tr>\n",
              "      <th>2021</th>\n",
              "      <td>5</td>\n",
              "      <td>0.088349</td>\n",
              "      <td>0.326398</td>\n",
              "      <td>0.418545</td>\n",
              "    </tr>\n",
              "  </tbody>\n",
              "</table>\n",
              "</div>\n",
              "      <button class=\"colab-df-convert\" onclick=\"convertToInteractive('df-e4bbdec7-89ee-4b9b-9df1-de9f30e355e4')\"\n",
              "              title=\"Convert this dataframe to an interactive table.\"\n",
              "              style=\"display:none;\">\n",
              "        \n",
              "  <svg xmlns=\"http://www.w3.org/2000/svg\" height=\"24px\"viewBox=\"0 0 24 24\"\n",
              "       width=\"24px\">\n",
              "    <path d=\"M0 0h24v24H0V0z\" fill=\"none\"/>\n",
              "    <path d=\"M18.56 5.44l.94 2.06.94-2.06 2.06-.94-2.06-.94-.94-2.06-.94 2.06-2.06.94zm-11 1L8.5 8.5l.94-2.06 2.06-.94-2.06-.94L8.5 2.5l-.94 2.06-2.06.94zm10 10l.94 2.06.94-2.06 2.06-.94-2.06-.94-.94-2.06-.94 2.06-2.06.94z\"/><path d=\"M17.41 7.96l-1.37-1.37c-.4-.4-.92-.59-1.43-.59-.52 0-1.04.2-1.43.59L10.3 9.45l-7.72 7.72c-.78.78-.78 2.05 0 2.83L4 21.41c.39.39.9.59 1.41.59.51 0 1.02-.2 1.41-.59l7.78-7.78 2.81-2.81c.8-.78.8-2.07 0-2.86zM5.41 20L4 18.59l7.72-7.72 1.47 1.35L5.41 20z\"/>\n",
              "  </svg>\n",
              "      </button>\n",
              "      \n",
              "  <style>\n",
              "    .colab-df-container {\n",
              "      display:flex;\n",
              "      flex-wrap:wrap;\n",
              "      gap: 12px;\n",
              "    }\n",
              "\n",
              "    .colab-df-convert {\n",
              "      background-color: #E8F0FE;\n",
              "      border: none;\n",
              "      border-radius: 50%;\n",
              "      cursor: pointer;\n",
              "      display: none;\n",
              "      fill: #1967D2;\n",
              "      height: 32px;\n",
              "      padding: 0 0 0 0;\n",
              "      width: 32px;\n",
              "    }\n",
              "\n",
              "    .colab-df-convert:hover {\n",
              "      background-color: #E2EBFA;\n",
              "      box-shadow: 0px 1px 2px rgba(60, 64, 67, 0.3), 0px 1px 3px 1px rgba(60, 64, 67, 0.15);\n",
              "      fill: #174EA6;\n",
              "    }\n",
              "\n",
              "    [theme=dark] .colab-df-convert {\n",
              "      background-color: #3B4455;\n",
              "      fill: #D2E3FC;\n",
              "    }\n",
              "\n",
              "    [theme=dark] .colab-df-convert:hover {\n",
              "      background-color: #434B5C;\n",
              "      box-shadow: 0px 1px 3px 1px rgba(0, 0, 0, 0.15);\n",
              "      filter: drop-shadow(0px 1px 2px rgba(0, 0, 0, 0.3));\n",
              "      fill: #FFFFFF;\n",
              "    }\n",
              "  </style>\n",
              "\n",
              "      <script>\n",
              "        const buttonEl =\n",
              "          document.querySelector('#df-e4bbdec7-89ee-4b9b-9df1-de9f30e355e4 button.colab-df-convert');\n",
              "        buttonEl.style.display =\n",
              "          google.colab.kernel.accessAllowed ? 'block' : 'none';\n",
              "\n",
              "        async function convertToInteractive(key) {\n",
              "          const element = document.querySelector('#df-e4bbdec7-89ee-4b9b-9df1-de9f30e355e4');\n",
              "          const dataTable =\n",
              "            await google.colab.kernel.invokeFunction('convertToInteractive',\n",
              "                                                     [key], {});\n",
              "          if (!dataTable) return;\n",
              "\n",
              "          const docLinkHtml = 'Like what you see? Visit the ' +\n",
              "            '<a target=\"_blank\" href=https://colab.research.google.com/notebooks/data_table.ipynb>data table notebook</a>'\n",
              "            + ' to learn more about interactive tables.';\n",
              "          element.innerHTML = '';\n",
              "          dataTable['output_type'] = 'display_data';\n",
              "          await google.colab.output.renderOutput(dataTable, element);\n",
              "          const docLink = document.createElement('div');\n",
              "          docLink.innerHTML = docLinkHtml;\n",
              "          element.appendChild(docLink);\n",
              "        }\n",
              "      </script>\n",
              "    </div>\n",
              "  </div>\n",
              "  "
            ]
          },
          "metadata": {},
          "execution_count": 15
        }
      ],
      "source": [
        "Info_df = pd.DataFrame(strInfoLst, index=[i for i in range(startYear, endYear+1)])\n",
        "\n",
        "Info_df"
      ]
    },
    {
      "cell_type": "code",
      "source": [
        "plt.plot(Info_df['dia'])\n",
        "plt.show()"
      ],
      "metadata": {
        "id": "LEFXYuQhXbTg",
        "colab": {
          "base_uri": "https://localhost:8080/",
          "height": 265
        },
        "outputId": "df966b0d-af1d-4bef-da43-89aad9e26083"
      },
      "execution_count": 16,
      "outputs": [
        {
          "output_type": "display_data",
          "data": {
            "text/plain": [
              "<Figure size 432x288 with 1 Axes>"
            ],
            "image/png": "[encoded data removed]"
          },
          "metadata": {
            "needs_background": "light"
          }
        }
      ]
    },
    {
      "cell_type": "markdown",
      "source": [
        "네트워크에서 가장 멀리 연결된 pair의 거리를 의미하는 diameter의 경우 주로 5의 값을 나타내었고, 2018년과 2020년 한단계가 감소하는 것이 관찰되었다.\n",
        "다만 2021년의 경우 August까지만 reported 된 점을 감안하였을 때 추가로 9월~ 12월의 데이터가 추가되면 diameter가 4로 감소할 가능성도 있을 것이다."
      ],
      "metadata": {
        "id": "loAHmsbBor8W"
      }
    },
    {
      "cell_type": "code",
      "source": [
        "plt.plot(Info_df['den'])\n",
        "plt.show()"
      ],
      "metadata": {
        "id": "A-4dOx_uXPyb",
        "colab": {
          "base_uri": "https://localhost:8080/",
          "height": 265
        },
        "outputId": "1563bdb8-d1ec-4d98-aa57-0b5139aa33a0"
      },
      "execution_count": 17,
      "outputs": [
        {
          "output_type": "display_data",
          "data": {
            "text/plain": [
              "<Figure size 432x288 with 1 Axes>"
            ],
            "image/png": "[encoded data removed]"
          },
          "metadata": {
            "needs_background": "light"
          }
        }
      ]
    },
    {
      "cell_type": "markdown",
      "source": [
        "density의 경우 모든 노드 끼리의 가능한 연결 대비 실제 존재하는 엣지수의 비율을 나타내는데, 0.1의 값에서 0.01 정도의 편차로 변화하는 것을 관찰가능하다.\n",
        "지난 16년간 세계의 밀 무역은 가능한 모든 링크 중 평균적으로 10% 정도가 거래로 이어졌음을 알아볼 수 있다. 이는 각 국가가 주로 교역의 그룹이 존재할 수 있음을 의미하고, 전체 국가들의 집합에서 나누어지는 sub set에서 각각의 거래가 이루어 지기 때문이라는 점을 유추해볼 수 있다."
      ],
      "metadata": {
        "id": "OebrO2UypD1Z"
      }
    },
    {
      "cell_type": "code",
      "source": [
        "plt.plot(Info_df['trans'])\n",
        "plt.show()"
      ],
      "metadata": {
        "id": "JNuXRCw7XlI4",
        "colab": {
          "base_uri": "https://localhost:8080/",
          "height": 267
        },
        "outputId": "2d060011-0930-4287-d4f6-c5e43b8e4b4b"
      },
      "execution_count": 18,
      "outputs": [
        {
          "output_type": "display_data",
          "data": {
            "text/plain": [
              "<Figure size 432x288 with 1 Axes>"
            ],
            "image/png": "[encoded data removed]"
          },
          "metadata": {
            "needs_background": "light"
          }
        }
      ]
    },
    {
      "cell_type": "markdown",
      "source": [
        "3개 이상의 국가가 서로 연결된 비율을 나타내는 지표인 transitivity의 경우 역시 지난 16년간 큰 변화를 보이지는 않았다."
      ],
      "metadata": {
        "id": "SqcioNBSsThI"
      }
    },
    {
      "cell_type": "code",
      "source": [
        "plt.plot(Info_df['recip'])\n",
        "plt.show()"
      ],
      "metadata": {
        "id": "k9s7u0yGXexU",
        "colab": {
          "base_uri": "https://localhost:8080/",
          "height": 265
        },
        "outputId": "5228a6fa-dfc3-4b99-a10d-52db5d11f7a9"
      },
      "execution_count": 19,
      "outputs": [
        {
          "output_type": "display_data",
          "data": {
            "text/plain": [
              "<Figure size 432x288 with 1 Axes>"
            ],
            "image/png": "[encoded data removed]"
          },
          "metadata": {
            "needs_background": "light"
          }
        }
      ]
    },
    {
      "cell_type": "markdown",
      "source": [
        "특이사항으로 지난 16년간 reciprocity(상호성) 지표가 증가하는 모습을 관찰 가능했는데, 이는 과거 각 국가들의 기능이 수입에만 의존하던 단방향 연결만 존재하던 상태에서 다시 거꾸로 수출도 이루어지며 수출을 하는 국가가 조금씩 늘어가고 있다는 점을 시사한다고 볼 수 있다. 이러한 수출 수입을 동시에 하는 국가 다양성의 증가는 더 더 촘촘해지는 global network에서 긍정적인 signal 중 하나로 생각해볼 수 있을 것이다.\n"
      ],
      "metadata": {
        "id": "ku1pkMFvspmD"
      }
    },
    {
      "cell_type": "markdown",
      "source": [
        "## Centrality Analysis"
      ],
      "metadata": {
        "id": "P0esHU3J1Tet"
      }
    },
    {
      "cell_type": "markdown",
      "metadata": {
        "id": "dMIndN50Ipg_"
      },
      "source": [
        "### return_centralities_as_dict()"
      ]
    },
    {
      "cell_type": "code",
      "execution_count": 20,
      "metadata": {
        "id": "jxuKRiqPciVt"
      },
      "outputs": [],
      "source": [
        "from networkx.algorithms.centrality.eigenvector import eigenvector_centrality\n",
        "\n",
        "def return_centralities_as_dict(input_g):\n",
        "    # weighted degree centrality를 딕셔너리로 리턴\n",
        "    def return_weighted_degree_centrality(input_g, normalized=False):\n",
        "        w_d_centrality = {n:0.0 for n in input_g.nodes()} # initialize\n",
        "        for u, v, d in input_g.edges(data=True):\n",
        "            w_d_centrality[u]+=d['Trade Value (US$)']\n",
        "            w_d_centrality[v]+=d['Trade Value (US$)']\n",
        "        if normalized==True:\n",
        "            weighted_sum = sum(w_d_centrality.values())\n",
        "            return {k:v/weighted_sum for k, v in w_d_centrality.items()}\n",
        "        else:\n",
        "            return w_d_centrality\n",
        "\n",
        "    def return_closeness_centrality(input_g):\n",
        "        new_g_with_distance = input_g.copy()\n",
        "        for u,v,d in new_g_with_distance.edges(data=True):\n",
        "            if 'distance' not in d:\n",
        "                d['distance'] = 1.0/d['Trade Value (US$)']\n",
        "        return nx.closeness_centrality(new_g_with_distance, distance='distance')\n",
        "\n",
        "    def return_betweenness_centrality(input_g):\n",
        "        return nx.betweenness_centrality(input_g, weight='Trade Value (US$)')\n",
        "\n",
        "    def return_eigenvector_centrality(input_g):\n",
        "        return nx.eigenvector_centrality(input_g, weight='Trade Value (US$)', max_iter=1000000000000000000000) \n",
        "        # max_iter는 default 100으로 설정되어 미지정시 PowerIterationFailedConvergence 에러가 발생\n",
        "\n",
        "    return {\n",
        "        'weighted_deg':return_weighted_degree_centrality(input_g),\n",
        "        'closeness_cent':return_closeness_centrality(input_g), \n",
        "        'betweenness_cent':return_betweenness_centrality(input_g),\n",
        "        'eigenvector_cent':return_eigenvector_centrality(input_g)\n",
        "    }"
      ]
    },
    {
      "cell_type": "code",
      "execution_count": 21,
      "metadata": {
        "id": "fIlZ27B1Isie"
      },
      "outputs": [],
      "source": [
        "cenInfo = {}\n",
        "# cenInfoLst = {}\n",
        "# cenInfoLst = {'deg': [], 'wdeg':[], 'bet': [], 'wbet': [], 'clo': [], 'wclo': [], 'eig': [], 'weig': []}\n",
        "\n",
        "for year in range(startYear, endYear+1):\n",
        "    cenInfo[str(year)]    = {}\n",
        "    # cenInfoLst[str(year)] = {'deg': [], 'wdeg':[], 'bet': [], 'wbet': [], 'clo': [], 'wclo': [], 'eig': [], 'weig': []}\n",
        "\n",
        "    cenInfo[ str(year) ]['deg'] = nx.degree_centrality(wheat[ str(year) ])\n",
        "    cenInfo[ str(year) ]['wdeg'] = return_centralities_as_dict(wheat[ str(year) ])['weighted_deg']\n",
        "    cenInfo[ str(year) ]['bet'] = nx.betweenness_centrality(wheat[ str(year) ])\n",
        "    cenInfo[ str(year) ]['wbet'] = return_centralities_as_dict(wheat[ str(year) ])['betweenness_cent']\n",
        "    cenInfo[ str(year) ]['clo'] = nx.closeness_centrality(wheat[ str(year) ])\n",
        "    cenInfo[ str(year) ]['wclo'] = return_centralities_as_dict(wheat[ str(year) ])['closeness_cent']\n",
        "    cenInfo[ str(year) ]['eig'] = nx.eigenvector_centrality(wheat[ str(year) ])\n",
        "    cenInfo[ str(year) ]['weig'] = return_centralities_as_dict(wheat[ str(year) ])['eigenvector_cent']\n",
        "\n",
        "    # for key in cenInfo[str(year)].keys():\n",
        "        # cenInfoLst[str(year)][key].append(cenInfo[ str(year) ][key])"
      ]
    },
    {
      "cell_type": "code",
      "source": [
        "cenInfo['2021']['deg']"
      ],
      "metadata": {
        "id": "kDrx68we7FJ2",
        "colab": {
          "base_uri": "https://localhost:8080/"
        },
        "outputId": "15ee5467-3d00-49ff-c9ff-ee38b09bc691"
      },
      "execution_count": 22,
      "outputs": [
        {
          "output_type": "execute_result",
          "data": {
            "text/plain": [
              "{'Afghanistan': 0.0053475935828877,\n",
              " 'Albania': 0.0320855614973262,\n",
              " 'Algeria': 0.0855614973262032,\n",
              " 'Andorra': 0.0106951871657754,\n",
              " 'Angola': 0.0374331550802139,\n",
              " 'Antarctica': 0.0053475935828877,\n",
              " 'Areas, nes': 0.0481283422459893,\n",
              " 'Argentina': 0.08021390374331551,\n",
              " 'Armenia': 0.0427807486631016,\n",
              " 'Aruba': 0.0213903743315508,\n",
              " 'Australia': 0.32085561497326204,\n",
              " 'Austria': 0.2459893048128342,\n",
              " 'Azerbaijan': 0.0374331550802139,\n",
              " 'Bahamas': 0.0053475935828877,\n",
              " 'Bahrain': 0.0106951871657754,\n",
              " 'Bangladesh': 0.0320855614973262,\n",
              " 'Barbados': 0.0106951871657754,\n",
              " 'Belarus': 0.08021390374331551,\n",
              " 'Belgium': 0.3957219251336898,\n",
              " 'Belize': 0.0213903743315508,\n",
              " 'Benin': 0.053475935828877004,\n",
              " 'Bermuda': 0.0053475935828877,\n",
              " 'Bhutan': 0.0053475935828877,\n",
              " 'Bolivia (Plurinational State of)': 0.0320855614973262,\n",
              " 'Bosnia Herzegovina': 0.0374331550802139,\n",
              " 'Botswana': 0.0053475935828877,\n",
              " 'Br. Virgin Isds': 0.0053475935828877,\n",
              " 'Brazil': 0.06951871657754011,\n",
              " 'Brunei Darussalam': 0.0053475935828877,\n",
              " 'Bulgaria': 0.1443850267379679,\n",
              " 'Bunkers': 0.0106951871657754,\n",
              " 'Burkina Faso': 0.0053475935828877,\n",
              " 'Burundi': 0.0160427807486631,\n",
              " 'Cabo Verde': 0.0053475935828877,\n",
              " 'Cambodia': 0.0106951871657754,\n",
              " 'Cameroon': 0.0213903743315508,\n",
              " 'Canada': 0.5989304812834224,\n",
              " 'Chile': 0.10695187165775401,\n",
              " 'China': 0.1229946524064171,\n",
              " 'China, Hong Kong SAR': 0.0641711229946524,\n",
              " 'China, Macao SAR': 0.0320855614973262,\n",
              " 'Colombia': 0.0213903743315508,\n",
              " 'Costa Rica': 0.026737967914438502,\n",
              " 'Croatia': 0.21390374331550802,\n",
              " 'Cuba': 0.0106951871657754,\n",
              " 'Curaçao': 0.0053475935828877,\n",
              " 'Cyprus': 0.1122994652406417,\n",
              " 'Czechia': 0.2834224598930481,\n",
              " \"Côte d'Ivoire\": 0.0106951871657754,\n",
              " 'Dem. Rep. of the Congo': 0.026737967914438502,\n",
              " 'Denmark': 0.2994652406417112,\n",
              " 'Djibouti': 0.0160427807486631,\n",
              " 'Dominican Rep.': 0.026737967914438502,\n",
              " 'Ecuador': 0.0213903743315508,\n",
              " 'Egypt': 0.053475935828877004,\n",
              " 'El Salvador': 0.0320855614973262,\n",
              " 'Equatorial Guinea': 0.0053475935828877,\n",
              " 'Eritrea': 0.0053475935828877,\n",
              " 'Estonia': 0.1764705882352941,\n",
              " 'Ethiopia': 0.0213903743315508,\n",
              " 'Faeroe Isds': 0.0106951871657754,\n",
              " 'Fiji': 0.0160427807486631,\n",
              " 'Finland': 0.21390374331550802,\n",
              " 'France': 0.3529411764705882,\n",
              " 'French Polynesia': 0.0160427807486631,\n",
              " 'Gabon': 0.0160427807486631,\n",
              " 'Gambia': 0.0053475935828877,\n",
              " 'Georgia': 0.08021390374331551,\n",
              " 'Germany': 0.5721925133689839,\n",
              " 'Ghana': 0.0427807486631016,\n",
              " 'Gibraltar': 0.0053475935828877,\n",
              " 'Greece': 0.24064171122994651,\n",
              " 'Greenland': 0.0053475935828877,\n",
              " 'Grenada': 0.0160427807486631,\n",
              " 'Guatemala': 0.0374331550802139,\n",
              " 'Guinea': 0.0213903743315508,\n",
              " 'Guinea-Bissau': 0.0053475935828877,\n",
              " 'Guyana': 0.0106951871657754,\n",
              " 'Haiti': 0.0213903743315508,\n",
              " 'Honduras': 0.0053475935828877,\n",
              " 'Hungary': 0.2727272727272727,\n",
              " 'Iceland': 0.0641711229946524,\n",
              " 'India': 0.41711229946524064,\n",
              " 'Indonesia': 0.0427807486631016,\n",
              " 'Iran': 0.058823529411764705,\n",
              " 'Iraq': 0.0481283422459893,\n",
              " 'Ireland': 0.0909090909090909,\n",
              " 'Israel': 0.0962566844919786,\n",
              " 'Italy': 0.45454545454545453,\n",
              " 'Jamaica': 0.0106951871657754,\n",
              " 'Japan': 0.0909090909090909,\n",
              " 'Jordan': 0.0427807486631016,\n",
              " 'Kazakhstan': 0.1336898395721925,\n",
              " 'Kenya': 0.1122994652406417,\n",
              " 'Kuwait': 0.0374331550802139,\n",
              " 'Kyrgyzstan': 0.0320855614973262,\n",
              " \"Lao People's Dem. Rep.\": 0.0053475935828877,\n",
              " 'Latvia': 0.2245989304812834,\n",
              " 'Lebanon': 0.0909090909090909,\n",
              " 'Lesotho': 0.0053475935828877,\n",
              " 'Liberia': 0.0053475935828877,\n",
              " 'Libya': 0.026737967914438502,\n",
              " 'Lithuania': 0.2994652406417112,\n",
              " 'Luxembourg': 0.16042780748663102,\n",
              " 'Madagascar': 0.0160427807486631,\n",
              " 'Malawi': 0.0160427807486631,\n",
              " 'Malaysia': 0.053475935828877004,\n",
              " 'Maldives': 0.0106951871657754,\n",
              " 'Mali': 0.0053475935828877,\n",
              " 'Malta': 0.0320855614973262,\n",
              " 'Mauritania': 0.0213903743315508,\n",
              " 'Mauritius': 0.0213903743315508,\n",
              " 'Mexico': 0.1016042780748663,\n",
              " 'Montenegro': 0.0427807486631016,\n",
              " 'Morocco': 0.08021390374331551,\n",
              " 'Mozambique': 0.0427807486631016,\n",
              " 'Myanmar': 0.0320855614973262,\n",
              " 'Namibia': 0.0213903743315508,\n",
              " 'Nepal': 0.0160427807486631,\n",
              " 'Netherlands': 0.5668449197860962,\n",
              " 'New Caledonia': 0.0053475935828877,\n",
              " 'New Zealand': 0.1016042780748663,\n",
              " 'Nicaragua': 0.026737967914438502,\n",
              " 'Nigeria': 0.08021390374331551,\n",
              " 'North Macedonia': 0.0427807486631016,\n",
              " 'Norway': 0.0962566844919786,\n",
              " 'Oman': 0.0320855614973262,\n",
              " 'Other Asia, nes': 0.058823529411764705,\n",
              " 'Other Europe, nes': 0.0320855614973262,\n",
              " 'Pakistan': 0.0641711229946524,\n",
              " 'Panama': 0.0106951871657754,\n",
              " 'Papua New Guinea': 0.0106951871657754,\n",
              " 'Paraguay': 0.026737967914438502,\n",
              " 'Peru': 0.053475935828877004,\n",
              " 'Philippines': 0.08021390374331551,\n",
              " 'Poland': 0.3796791443850267,\n",
              " 'Portugal': 0.18716577540106952,\n",
              " 'Qatar': 0.0427807486631016,\n",
              " 'Rep. of Korea': 0.06951871657754011,\n",
              " 'Rep. of Moldova': 0.18716577540106952,\n",
              " 'Romania': 0.42780748663101603,\n",
              " 'Russian Federation': 0.23529411764705882,\n",
              " 'Rwanda': 0.0213903743315508,\n",
              " 'Saint Lucia': 0.0053475935828877,\n",
              " 'Saint Maarten': 0.0106951871657754,\n",
              " 'Saint Vincent and the Grenadines': 0.0053475935828877,\n",
              " 'Sao Tome and Principe': 0.0053475935828877,\n",
              " 'Saudi Arabia': 0.06951871657754011,\n",
              " 'Senegal': 0.0160427807486631,\n",
              " 'Serbia': 0.1925133689839572,\n",
              " 'Seychelles': 0.0106951871657754,\n",
              " 'Sierra Leone': 0.0106951871657754,\n",
              " 'Singapore': 0.0427807486631016,\n",
              " 'Slovakia': 0.2192513368983957,\n",
              " 'Slovenia': 0.16042780748663102,\n",
              " 'Solomon Isds': 0.0053475935828877,\n",
              " 'Somalia': 0.0160427807486631,\n",
              " 'South Africa': 0.06951871657754011,\n",
              " 'Spain': 0.3315508021390374,\n",
              " 'Sri Lanka': 0.0320855614973262,\n",
              " 'State of Palestine': 0.0106951871657754,\n",
              " 'Sudan': 0.053475935828877004,\n",
              " 'Suriname': 0.0160427807486631,\n",
              " 'Sweden': 0.2994652406417112,\n",
              " 'Switzerland': 0.3368983957219251,\n",
              " 'Syria': 0.026737967914438502,\n",
              " 'Tajikistan': 0.0053475935828877,\n",
              " 'Thailand': 0.0641711229946524,\n",
              " 'Timor-Leste': 0.0053475935828877,\n",
              " 'Togo': 0.0160427807486631,\n",
              " 'Trinidad and Tobago': 0.0106951871657754,\n",
              " 'Tunisia': 0.053475935828877004,\n",
              " 'Turkey': 0.4919786096256684,\n",
              " 'Turkmenistan': 0.0053475935828877,\n",
              " 'USA': 0.5935828877005347,\n",
              " 'Uganda': 0.0427807486631016,\n",
              " 'Ukraine': 0.4919786096256684,\n",
              " 'United Arab Emirates': 0.0909090909090909,\n",
              " 'United Kingdom': 0.4224598930481283,\n",
              " 'United Rep. of Tanzania': 0.0748663101604278,\n",
              " 'Uruguay': 0.0106951871657754,\n",
              " 'Uzbekistan': 0.0320855614973262,\n",
              " 'Vanuatu': 0.0053475935828877,\n",
              " 'Venezuela': 0.0160427807486631,\n",
              " 'Viet Nam': 0.053475935828877004,\n",
              " 'Yemen': 0.026737967914438502,\n",
              " 'Zambia': 0.0106951871657754,\n",
              " 'Zimbabwe': 0.0106951871657754}"
            ]
          },
          "metadata": {},
          "execution_count": 22
        }
      ]
    },
    {
      "cell_type": "code",
      "source": [
        "for year in range(startYear, endYear+1):\n",
        "\n",
        "  for key in cenInfo[str(year)].keys():\n",
        "\n",
        "    print(f\"{key} centrality of Korea in {year} : {cenInfo[str(year)][key]['Rep. of Korea']:.4f}\")"
      ],
      "metadata": {
        "id": "mUA6ZHYd6pM0",
        "colab": {
          "base_uri": "https://localhost:8080/"
        },
        "outputId": "19a91a02-ada3-4cb6-ce3b-e2f027743fd9"
      },
      "execution_count": 23,
      "outputs": [
        {
          "output_type": "stream",
          "name": "stdout",
          "text": [
            "deg centrality of Korea in 2006 : 0.0995\n",
            "wdeg centrality of Korea in 2006 : 1014223196.0000\n",
            "bet centrality of Korea in 2006 : 0.0077\n",
            "wbet centrality of Korea in 2006 : 0.0269\n",
            "clo centrality of Korea in 2006 : 0.2761\n",
            "wclo centrality of Korea in 2006 : 12.6261\n",
            "eig centrality of Korea in 2006 : 0.0686\n",
            "weig centrality of Korea in 2006 : 0.0007\n",
            "deg centrality of Korea in 2007 : 0.0792\n",
            "wdeg centrality of Korea in 2007 : 1375956319.0000\n",
            "bet centrality of Korea in 2007 : 0.0076\n",
            "wbet centrality of Korea in 2007 : 0.0079\n",
            "clo centrality of Korea in 2007 : 0.2308\n",
            "wclo centrality of Korea in 2007 : 66.9024\n",
            "eig centrality of Korea in 2007 : 0.0253\n",
            "weig centrality of Korea in 2007 : 0.0005\n",
            "deg centrality of Korea in 2008 : 0.1034\n",
            "wdeg centrality of Korea in 2008 : 1976610028.0000\n",
            "bet centrality of Korea in 2008 : 0.0064\n",
            "wbet centrality of Korea in 2008 : 0.1952\n",
            "clo centrality of Korea in 2008 : 0.2680\n",
            "wclo centrality of Korea in 2008 : 625.0632\n",
            "eig centrality of Korea in 2008 : 0.0521\n",
            "weig centrality of Korea in 2008 : 0.0051\n",
            "deg centrality of Korea in 2009 : 0.0995\n",
            "wdeg centrality of Korea in 2009 : 1664676481.0000\n",
            "bet centrality of Korea in 2009 : 0.0007\n",
            "wbet centrality of Korea in 2009 : 0.0378\n",
            "clo centrality of Korea in 2009 : 0.2738\n",
            "wclo centrality of Korea in 2009 : 47.6481\n",
            "eig centrality of Korea in 2009 : 0.0735\n",
            "weig centrality of Korea in 2009 : 0.0056\n",
            "deg centrality of Korea in 2010 : 0.1225\n",
            "wdeg centrality of Korea in 2010 : 2056060327.0000\n",
            "bet centrality of Korea in 2010 : 0.0109\n",
            "wbet centrality of Korea in 2010 : 0.0417\n",
            "clo centrality of Korea in 2010 : 0.2969\n",
            "wclo centrality of Korea in 2010 : 77.6898\n",
            "eig centrality of Korea in 2010 : 0.0798\n",
            "weig centrality of Korea in 2010 : 0.0149\n",
            "deg centrality of Korea in 2011 : 0.0359\n",
            "wdeg centrality of Korea in 2011 : 1073207705.0000\n",
            "bet centrality of Korea in 2011 : 0.0001\n",
            "wbet centrality of Korea in 2011 : 0.0000\n",
            "clo centrality of Korea in 2011 : 0.2143\n",
            "wclo centrality of Korea in 2011 : 49.4281\n",
            "eig centrality of Korea in 2011 : 0.0207\n",
            "weig centrality of Korea in 2011 : 0.0001\n",
            "deg centrality of Korea in 2012 : 0.0359\n",
            "wdeg centrality of Korea in 2012 : 949564810.0000\n",
            "bet centrality of Korea in 2012 : 0.0001\n",
            "wbet centrality of Korea in 2012 : 0.0000\n",
            "clo centrality of Korea in 2012 : 0.2078\n",
            "wclo centrality of Korea in 2012 : 769.9855\n",
            "eig centrality of Korea in 2012 : 0.0218\n",
            "weig centrality of Korea in 2012 : 0.0001\n",
            "deg centrality of Korea in 2013 : 0.0769\n",
            "wdeg centrality of Korea in 2013 : 881484824.0000\n",
            "bet centrality of Korea in 2013 : 0.0010\n",
            "wbet centrality of Korea in 2013 : 0.0000\n",
            "clo centrality of Korea in 2013 : 0.2167\n",
            "wclo centrality of Korea in 2013 : 772.6115\n",
            "eig centrality of Korea in 2013 : 0.0509\n",
            "weig centrality of Korea in 2013 : 0.0029\n",
            "deg centrality of Korea in 2014 : 0.0909\n",
            "wdeg centrality of Korea in 2014 : 675485790.0000\n",
            "bet centrality of Korea in 2014 : 0.0034\n",
            "wbet centrality of Korea in 2014 : 0.0024\n",
            "clo centrality of Korea in 2014 : 0.2295\n",
            "wclo centrality of Korea in 2014 : 44.9642\n",
            "eig centrality of Korea in 2014 : 0.0742\n",
            "weig centrality of Korea in 2014 : 0.0030\n",
            "deg centrality of Korea in 2015 : 0.0923\n",
            "wdeg centrality of Korea in 2015 : 565992554.0000\n",
            "bet centrality of Korea in 2015 : 0.0007\n",
            "wbet centrality of Korea in 2015 : 0.0000\n",
            "clo centrality of Korea in 2015 : 0.2823\n",
            "wclo centrality of Korea in 2015 : 14.0332\n",
            "eig centrality of Korea in 2015 : 0.0823\n",
            "weig centrality of Korea in 2015 : 0.0062\n",
            "deg centrality of Korea in 2016 : 0.1809\n",
            "wdeg centrality of Korea in 2016 : 1851568963.0000\n",
            "bet centrality of Korea in 2016 : 0.0131\n",
            "wbet centrality of Korea in 2016 : 0.0117\n",
            "clo centrality of Korea in 2016 : 0.3141\n",
            "wclo centrality of Korea in 2016 : 164.1490\n",
            "eig centrality of Korea in 2016 : 0.1291\n",
            "weig centrality of Korea in 2016 : 0.0347\n",
            "deg centrality of Korea in 2017 : 0.1667\n",
            "wdeg centrality of Korea in 2017 : 1797993084.0000\n",
            "bet centrality of Korea in 2017 : 0.0026\n",
            "wbet centrality of Korea in 2017 : 0.0422\n",
            "clo centrality of Korea in 2017 : 0.3200\n",
            "wclo centrality of Korea in 2017 : 86.9333\n",
            "eig centrality of Korea in 2017 : 0.1022\n",
            "weig centrality of Korea in 2017 : 0.0195\n",
            "deg centrality of Korea in 2018 : 0.1133\n",
            "wdeg centrality of Korea in 2018 : 1888986683.0000\n",
            "bet centrality of Korea in 2018 : 0.0010\n",
            "wbet centrality of Korea in 2018 : 0.0425\n",
            "clo centrality of Korea in 2018 : 0.2929\n",
            "wclo centrality of Korea in 2018 : 161.6306\n",
            "eig centrality of Korea in 2018 : 0.0810\n",
            "weig centrality of Korea in 2018 : 0.0059\n",
            "deg centrality of Korea in 2019 : 0.1366\n",
            "wdeg centrality of Korea in 2019 : 1861040547.0000\n",
            "bet centrality of Korea in 2019 : 0.0055\n",
            "wbet centrality of Korea in 2019 : 0.1699\n",
            "clo centrality of Korea in 2019 : 0.2903\n",
            "wclo centrality of Korea in 2019 : 43.3363\n",
            "eig centrality of Korea in 2019 : 0.1044\n",
            "weig centrality of Korea in 2019 : 0.0095\n",
            "deg centrality of Korea in 2020 : 0.1117\n",
            "wdeg centrality of Korea in 2020 : 1787646274.0000\n",
            "bet centrality of Korea in 2020 : 0.0004\n",
            "wbet centrality of Korea in 2020 : 0.0551\n",
            "clo centrality of Korea in 2020 : 0.2866\n",
            "wclo centrality of Korea in 2020 : 35.4591\n",
            "eig centrality of Korea in 2020 : 0.0848\n",
            "weig centrality of Korea in 2020 : 0.0272\n",
            "deg centrality of Korea in 2021 : 0.0695\n",
            "wdeg centrality of Korea in 2021 : 1082993365.0000\n",
            "bet centrality of Korea in 2021 : 0.0001\n",
            "wbet centrality of Korea in 2021 : 0.0000\n",
            "clo centrality of Korea in 2021 : 0.2340\n",
            "wclo centrality of Korea in 2021 : 59.0452\n",
            "eig centrality of Korea in 2021 : 0.0649\n",
            "weig centrality of Korea in 2021 : 0.0052\n"
          ]
        }
      ]
    },
    {
      "cell_type": "markdown",
      "source": [
        "## wheat(Graph) to pickle"
      ],
      "metadata": {
        "id": "THmc4U0JwbGV"
      }
    },
    {
      "cell_type": "code",
      "source": [
        "wheat['2021'] # year -> centrality-type -> Country -> value"
      ],
      "metadata": {
        "id": "5B-gYS0YxKsX",
        "colab": {
          "base_uri": "https://localhost:8080/"
        },
        "outputId": "4308e722-8100-433e-ee91-37c6e5f654c0"
      },
      "execution_count": 24,
      "outputs": [
        {
          "output_type": "execute_result",
          "data": {
            "text/plain": [
              "<networkx.classes.digraph.DiGraph at 0x7f9cace7f110>"
            ]
          },
          "metadata": {},
          "execution_count": 24
        }
      ]
    },
    {
      "cell_type": "code",
      "source": [
        "# import pickle\n",
        "\n",
        "# with open('/content/drive/Shareddrives/22-1 데이터마이닝/TermProject/Louvain_Analysis/pickles/wheat.pkl', 'wb') as f:\n",
        "#   pickle.dump(wheat, f)"
      ],
      "metadata": {
        "id": "kiK4rmbJ5tQm"
      },
      "execution_count": 25,
      "outputs": []
    },
    {
      "cell_type": "code",
      "source": [
        ""
      ],
      "metadata": {
        "id": "lxUGPTikL-ik"
      },
      "execution_count": 25,
      "outputs": []
    }
  ],
  "metadata": {
    "colab": {
      "collapsed_sections": [],
      "name": "TP_1_wheat_pickle.ipynb",
      "provenance": [],
      "toc_visible": true
    },
    "kernelspec": {
      "display_name": "Python 3",
      "name": "python3"
    },
    "language_info": {
      "name": "python"
    }
  },
  "nbformat": 4,
  "nbformat_minor": 0
}